{
 "cells": [
  {
   "cell_type": "markdown",
   "metadata": {},
   "source": [
    "                                                     TALLER #4 - COMPLEMENTARIA MÉTODOS COMPUTACIONALES"
   ]
  },
  {
   "cell_type": "markdown",
   "metadata": {},
   "source": [
    "EJERCICIO #1: Calculo de probabilidad.\n"
   ]
  },
  {
   "cell_type": "markdown",
   "metadata": {},
   "source": [
    "LITERAL 1"
   ]
  },
  {
   "cell_type": "code",
   "execution_count": 139,
   "metadata": {},
   "outputs": [],
   "source": [
    "\n",
    "import random\n",
    "\n",
    "#En el código a continuación, lo que estamos haciendo es crear la baraja de cartas:\n",
    "\n",
    "class Carta(object):\n",
    "    def __init__(self,tipo,val):\n",
    "        self.tipo = tipo\n",
    "        self.valor = val\n",
    "\n",
    "\n",
    "    def mostrar(self):\n",
    "        print(self.valor, \"de\", self.tipo)\n",
    "\n",
    "\n",
    "class Mazo(object):\n",
    "    def __init__(self):\n",
    "        self.cartas = []\n",
    "        self.build()\n",
    "\n",
    "\n",
    "    def build(self):\n",
    "        for s in [\"Espadas\", \"Tréboles\", \"Diamantes\", \"Corazones\"]:\n",
    "            for v in range(1,14):\n",
    "                self.cartas.append(Carta(s, v))\n",
    "   \n",
    "    def mostrar(self):\n",
    "        for c in self.cartas:\n",
    "            c.show()\n",
    "\n",
    "\n",
    "    def barajar(self):\n",
    "        for i in range(len(self.cartas)-1,0,-1):\n",
    "            r = random.randint(0,i)\n",
    "            self.cartas[i], self.cartas[r] = self.cartas[r], self.cartas[i]\n",
    "   \n",
    "    def elegirCarta(self):\n",
    "        return self.cartas.pop()\n",
    "   \n",
    "class Jugador(object):\n",
    "    def __init__(self, nombre):\n",
    "        self.nombre = nombre\n",
    "        self.mano = []\n",
    "\n",
    "def sortear(self,mazo):\n",
    "        self.mano.append(mazo.elegirCarta())\n",
    "        return self\n",
    "\n",
    "\n",
    "def mostrarMano(self):\n",
    "        for carta in self.mano:\n",
    "            carta.mostrar()\n",
    "\n",
    "\n",
    "def descartar(self):\n",
    "        return self.mano.pop()\n"
   ]
  },
  {
   "cell_type": "markdown",
   "metadata": {},
   "source": [
    "A)"
   ]
  },
  {
   "cell_type": "code",
   "execution_count": 175,
   "metadata": {},
   "outputs": [
    {
     "name": "stdout",
     "output_type": "stream",
     "text": [
      "Si las primeras 2 cartas son espadas, la probabilidad de que las siguientes 3 cartas también sean espadas es: 0.00855\n",
      "La probabilidad teórica: 0.0084, con lo cual el resultado experimental se acerca de sobremanera al teórico\n"
     ]
    }
   ],
   "source": [
    "import random\n",
    "\n",
    "\n",
    "import random\n",
    "\n",
    "\n",
    "def simulacion(n_simulaciones):\n",
    "    contador_exitos = 0  \n",
    "    contador_doble = 0\n",
    "\n",
    "\n",
    "    for i in range(n_simulaciones):\n",
    "        mazo = Mazo()\n",
    "        mazo.barajar()\n",
    "       \n",
    "        primera_carta = mazo.elegirCarta()\n",
    "        segunda_carta = mazo.elegirCarta()\n",
    "\n",
    "\n",
    "        exito = False  \n",
    "\n",
    "\n",
    "        if primera_carta.tipo == \"Espadas\" and segunda_carta.tipo == \"Espadas\":\n",
    "            exito = True\n",
    "            contador_doble += 1\n",
    "\n",
    "\n",
    "        if exito == True:\n",
    "            tercera_carta = mazo.elegirCarta()\n",
    "            if tercera_carta.tipo == \"Espadas\":              \n",
    "                cuarta_carta = mazo.elegirCarta()\n",
    "                if cuarta_carta.tipo ==\"Espadas\":\n",
    "                    quinta_carta = mazo.elegirCarta()\n",
    "                    if quinta_carta.tipo != \"Espadas\":\n",
    "                        exito=False    \n",
    "                       \n",
    "                    elif exito == True:\n",
    "                        contador_exitos += 1\n",
    "\n",
    "\n",
    "    probabilidad = (contador_exitos / contador_doble)\n",
    "    return probabilidad\n",
    "\n",
    "\n",
    "n_simulaciones = 100000\n",
    "probabilidad = simulacion(n_simulaciones)\n",
    "probabilidad = round(probabilidad, 5)\n",
    "\n",
    "\n",
    "\n",
    "print(\"Si las primeras 2 cartas son espadas, la probabilidad de que las siguientes 3 cartas también sean espadas es:\", probabilidad)\n",
    "print(\"La probabilidad teórica: 0.0084, con lo cual el resultado experimental se acerca de sobremanera al teórico\")"
   ]
  },
  {
   "cell_type": "markdown",
   "metadata": {},
   "source": [
    "B)"
   ]
  },
  {
   "cell_type": "code",
   "execution_count": 173,
   "metadata": {},
   "outputs": [
    {
     "name": "stdout",
     "output_type": "stream",
     "text": [
      "Si las primeras 3 cartas son todas de espadas, la probabilidad de que las 2 cartas siguientes sean también espadas es: 0.0382\n",
      "Probabilidad teórica: 0.0383, con lo cual el resultado experimental se acerca de sobremanera al teórico\n"
     ]
    }
   ],
   "source": [
    "def simulacion2(n_simulaciones):\n",
    "    contador_exitos = 0  \n",
    "    contador_doble = 0\n",
    "\n",
    "\n",
    "    for i in range(n_simulaciones):\n",
    "        mazo = Mazo()\n",
    "        mazo.barajar()\n",
    "       \n",
    "        primera_carta = mazo.elegirCarta()\n",
    "        segunda_carta = mazo.elegirCarta()\n",
    "        tercera_carta = mazo.elegirCarta()\n",
    "\n",
    "\n",
    "        exito = False  \n",
    "\n",
    "\n",
    "        if primera_carta.tipo == \"Espadas\" and segunda_carta.tipo == \"Espadas\" and tercera_carta.tipo == \"Espadas\":\n",
    "            exito = True\n",
    "            contador_doble += 1\n",
    "\n",
    "\n",
    "        if exito == True:              \n",
    "            cuarta_carta = mazo.elegirCarta()\n",
    "            if cuarta_carta.tipo ==\"Espadas\":\n",
    "                quinta_carta = mazo.elegirCarta()\n",
    "                if quinta_carta.tipo != \"Espadas\":\n",
    "                    exito = False    \n",
    "                   \n",
    "                elif exito == True:\n",
    "                    contador_exitos += 1\n",
    "\n",
    "\n",
    "    probabilidad = (contador_exitos / contador_doble)\n",
    "    return probabilidad\n",
    "\n",
    "\n",
    "n_simulaciones = 100000\n",
    "probabilidad = simulacion2(n_simulaciones)\n",
    "probabilidad = round(probabilidad, 4)\n",
    "\n",
    "\n",
    "print(\"Si las primeras 3 cartas son todas de espadas, la probabilidad de que las 2 cartas siguientes sean también espadas es:\", probabilidad)\n",
    "print(\"Probabilidad teórica: 0.0383, con lo cual el resultado experimental se acerca de sobremanera al teórico\")\n",
    "\n",
    "\n"
   ]
  },
  {
   "cell_type": "markdown",
   "metadata": {},
   "source": [
    "C)"
   ]
  },
  {
   "cell_type": "code",
   "execution_count": 142,
   "metadata": {},
   "outputs": [
    {
     "name": "stdout",
     "output_type": "stream",
     "text": [
      "Si las primeras 4 cartas son todas de espadas, la probabilidad de que la siguiente carta sea también una espada es: 0.18773\n",
      "Probabilidad teórica: 0.1875, con lo cual el resultado experimental se acerca de sobremanera al teórico\n"
     ]
    }
   ],
   "source": [
    "def simulacion3(n_simulaciones):\n",
    "    contador_exitos = 0  \n",
    "    contador_doble = 0\n",
    "\n",
    "\n",
    "    for i in range(n_simulaciones):\n",
    "        mazo = Mazo()\n",
    "        mazo.barajar()\n",
    "       \n",
    "        primera_carta = mazo.elegirCarta()\n",
    "        segunda_carta = mazo.elegirCarta()\n",
    "        tercera_carta = mazo.elegirCarta()\n",
    "        cuarta_carta = mazo.elegirCarta()\n",
    "\n",
    "\n",
    "        exito = False  \n",
    "\n",
    "\n",
    "        if primera_carta.tipo == \"Espadas\" and segunda_carta.tipo == \"Espadas\" and tercera_carta.tipo == \"Espadas\" and cuarta_carta.tipo == \"Espadas\":\n",
    "            exito = True\n",
    "            contador_doble += 1\n",
    "\n",
    "\n",
    "        if exito == True:              \n",
    "            quinta_carta = mazo.elegirCarta()\n",
    "            if quinta_carta.tipo != \"Espadas\":\n",
    "                exito = False    \n",
    "               \n",
    "            elif exito == True:\n",
    "                contador_exitos += 1\n",
    "\n",
    "\n",
    "    probabilidad = (contador_exitos / contador_doble)\n",
    "    return probabilidad\n",
    "\n",
    "\n",
    "n_simulaciones = 100000\n",
    "probabilidad = simulacion3(n_simulaciones)\n",
    "probabilidad = round(probabilidad, 5)\n",
    "\n",
    "\n",
    "print(\"Si las primeras 4 cartas son todas de espadas, la probabilidad de que la siguiente carta sea también una espada es:\", probabilidad)\n",
    "print(\"Probabilidad teórica: 0.1875, con lo cual el resultado experimental se acerca de sobremanera al teórico\")\n"
   ]
  },
  {
   "cell_type": "markdown",
   "metadata": {},
   "source": [
    "LITERAL 2"
   ]
  },
  {
   "cell_type": "code",
   "execution_count": 143,
   "metadata": {},
   "outputs": [
    {
     "name": "stdout",
     "output_type": "stream",
     "text": [
      "La probabilidad de que al menos una de las dos personas se enferme es aproximadamente: 0.59527\n"
     ]
    }
   ],
   "source": [
    "import random\n",
    "\n",
    "\n",
    "class Persona(object):\n",
    "    def __init__(self, inoculada):\n",
    "        self.inoculada = inoculada\n",
    "        self.enferma = False\n",
    "\n",
    "\n",
    "    def exponerse_gripe(self):\n",
    "        probabilidad_exposicion = 0.6 \n",
    "        if random.random() <= probabilidad_exposicion:\n",
    "            if not self.inoculada:\n",
    "               \n",
    "                self.enferma = random.random() <= 0.90\n",
    "            else:\n",
    "                \n",
    "                self.enferma = random.random() <= 0.20\n",
    "\n",
    "\n",
    "def simular_epidemia(num_simulaciones):\n",
    "    casos_enfermos = 0\n",
    "\n",
    "\n",
    "    for _ in range(num_simulaciones):\n",
    "        persona_inoculada = Persona(inoculada=True)\n",
    "        persona_no_inoculada = Persona(inoculada=False)\n",
    "\n",
    "\n",
    "       \n",
    "        persona_inoculada.exponerse_gripe()\n",
    "        persona_no_inoculada.exponerse_gripe()\n",
    "\n",
    "\n",
    "       \n",
    "        if persona_inoculada.enferma or persona_no_inoculada.enferma:\n",
    "            casos_enfermos += 1\n",
    "\n",
    "\n",
    "    probabilidad_enfermos = casos_enfermos / num_simulaciones\n",
    "    return probabilidad_enfermos\n",
    "\n",
    "\n",
    "\n",
    "num_simulaciones = 10**6\n",
    "\n",
    "\n",
    "probabilidad = simular_epidemia(num_simulaciones)\n",
    "\n",
    "\n",
    "print(\"La probabilidad de que al menos una de las dos personas se enferme es aproximadamente:\", probabilidad)\n"
   ]
  },
  {
   "cell_type": "markdown",
   "metadata": {},
   "source": [
    "EJERCICIO #2: Distribuciones de probabilidad discretas\n"
   ]
  },
  {
   "cell_type": "markdown",
   "metadata": {},
   "source": [
    "LITERAL 1: El muestreo de piezas defectuosas de grandes lotes de productos manufacturados..."
   ]
  },
  {
   "cell_type": "code",
   "execution_count": 144,
   "metadata": {},
   "outputs": [],
   "source": [
    "import numpy as np\n",
    "import matplotlib.pyplot as plt"
   ]
  },
  {
   "cell_type": "code",
   "execution_count": 145,
   "metadata": {},
   "outputs": [],
   "source": [
    "N = 500\n",
    "distribucion=np.linspace(0,1,N)\n",
    "aceptacion_1 = []\n",
    "aceptacion_5 = []\n",
    "\n",
    "\n",
    "for i in distribucion:\n",
    "    dist_1 = np.random.binomial(5, i, N)\n",
    "    cumple_condicion1=0\n",
    "    for j in dist_1:\n",
    "        if j <= 1:\n",
    "            cumple_condicion1 += 1 \n",
    "    aceptacion_1.append(cumple_condicion1/N)\n",
    "    \n",
    "    dist_5 = np.random.binomial(25, i, N)\n",
    "    cumple_condicion5=0\n",
    "    for j in dist_5:\n",
    "        if j <= 5:\n",
    "            cumple_condicion5 += 1\n",
    "    aceptacion_5.append(cumple_condicion5/N)\n"
   ]
  },
  {
   "cell_type": "code",
   "execution_count": 146,
   "metadata": {},
   "outputs": [
    {
     "data": {
      "text/plain": [
       "<matplotlib.legend.Legend at 0x21ad7a30e08>"
      ]
     },
     "execution_count": 146,
     "metadata": {},
     "output_type": "execute_result"
    },
    {
     "data": {
      "image/png": "[encoded data removed]",
      "text/plain": [
       "<Figure size 640x480 with 1 Axes>"
      ]
     },
     "metadata": {},
     "output_type": "display_data"
    }
   ],
   "source": [
    "plt.plot(distribucion, aceptacion_1, label=\"a = 1\")\n",
    "plt.plot(distribucion, aceptacion_5, label=\"a = 5\")\n",
    "plt.xlabel(\"probabilidad defectuoso\")\n",
    "plt.ylabel(\"probabilidad aceptación\")\n",
    "plt.legend()"
   ]
  },
  {
   "cell_type": "markdown",
   "metadata": {},
   "source": [
    "a) Si usted fuera un vendedor que produce lotes con una fracción defectuosa que va de p = 0 a p = 10,\n",
    " ¿cuál de los dos planes de muestreo preferiría?"
   ]
  },
  {
   "cell_type": "markdown",
   "metadata": {},
   "source": [
    "Si fuera un vendedor que produce lotes con una fracción defectuosa que va de p = 0 a p = 0.10, preferiría el segundo plan de muestreo (a=5),\n",
    "ya que este es el que me beneficia más a mí como vendedor."
   ]
  },
  {
   "cell_type": "markdown",
   "metadata": {},
   "source": [
    "b) Si usted fuera un comprador que desea protegerse contra la aceptación de lotes con una fracción\n",
    " defectuosa que exceda de p = 0.30, ¿cuál de los dos planes de muestreo preferiría?"
   ]
  },
  {
   "cell_type": "markdown",
   "metadata": {},
   "source": [
    "Si fuera un comprador que desea protegerse contra la aceptación d elotes con una fracción defectuosa que exceda de p = 0.30, preferiría el segundo plan de muestreo (a=5)"
   ]
  },
  {
   "cell_type": "markdown",
   "metadata": {},
   "source": [
    "----------------------------------------------------------------------------------------------------------------------------------------------------------------------------------"
   ]
  },
  {
   "cell_type": "markdown",
   "metadata": {},
   "source": [
    "LITERAL 2: El número de desconexiones del servidor de una compañía sigue una distribución de Poisson con una\n",
    " tasa de una desconexión cada 4 horas..."
   ]
  },
  {
   "cell_type": "markdown",
   "metadata": {},
   "source": [
    "a) Encuentre el menor valor de n tal que la probabilidad de que haya al menos n desconexiones en\n",
    " menos de un perıodo de 4 horas es menor que 0.01."
   ]
  },
  {
   "cell_type": "code",
   "execution_count": 147,
   "metadata": {},
   "outputs": [
    {
     "name": "stdout",
     "output_type": "stream",
     "text": [
      "El menor valor de n tal que la probabilidad de que haya al menos n desconexiones en menos de un período de 4 horas es menor que 0.01 es 4\n"
     ]
    }
   ],
   "source": [
    "prob = 1\n",
    "N = 10**5\n",
    "n = 0\n",
    "\n",
    "\n",
    "while prob > 0.01:\n",
    "    n += 1\n",
    "    y = np.random.poisson(1, N)\n",
    "    count = 0\n",
    "    for i in y:\n",
    "        if i > n:\n",
    "            count += 1\n",
    "    prob = count/N\n",
    "\n",
    "\n",
    "print(f\"El menor valor de n tal que la probabilidad de que haya al menos n desconexiones en menos de un período de 4 horas es menor que 0.01 es {n}\")"
   ]
  },
  {
   "cell_type": "markdown",
   "metadata": {},
   "source": [
    " b) Encuentre el menor valor del número de horas h tal que la probabilidad de que no haya desconexiones\n",
    " en h horas sea menor que 0.02."
   ]
  },
  {
   "cell_type": "code",
   "execution_count": 148,
   "metadata": {},
   "outputs": [
    {
     "name": "stdout",
     "output_type": "stream",
     "text": [
      "El menor valor del número de horas h tal que la probabilidad de que no haya desconexiones en h horas sea menor que 0.02 es 16\n"
     ]
    }
   ],
   "source": [
    "prob = 1\n",
    "h = 0\n",
    "\n",
    "while prob > 0.02:\n",
    "    h += 1\n",
    "    lambda_ = h*1/4\n",
    "    z = np.random.poisson(lambda_, N)\n",
    "    count = 0\n",
    "    for i in z:\n",
    "        if i == 0:\n",
    "            count += 1\n",
    "    prob = count/N\n",
    "    \n",
    "\n",
    "\n",
    "print(f\"El menor valor del número de horas h tal que la probabilidad de que no haya desconexiones en h horas sea menor que 0.02 es {h}\")"
   ]
  },
  {
   "cell_type": "markdown",
   "metadata": {},
   "source": [
    " c) Encuentre la probabilidad de que en 3 perıodos consecutivos de 4 horas, haya solamente un perıodo\n",
    " de 4 horas sin desconexiones."
   ]
  },
  {
   "cell_type": "code",
   "execution_count": 149,
   "metadata": {},
   "outputs": [
    {
     "name": "stdout",
     "output_type": "stream",
     "text": [
      "La probabilidad de que en 3 periodos consecutivos de 4 horas, haya solamente un periodo de 4 horas sin desconexiones es de 0.43873\n"
     ]
    }
   ],
   "source": [
    "n = 3\n",
    "#lambda_ = 1\n",
    "\n",
    "exitos = 0\n",
    "x = np.random.poisson(1, N)\n",
    "for i in x:\n",
    "    if i == 0:\n",
    "        exitos += 1\n",
    "prob = exitos/N\n",
    "\n",
    "\n",
    "uno = 0\n",
    "w = np.random.binomial(n, prob, N)\n",
    "for j in w:\n",
    "    if j == 1:\n",
    "        uno += 1\n",
    "probabilidad = uno/N\n",
    "print(f\"La probabilidad de que en 3 periodos consecutivos de 4 horas, haya solamente un periodo de 4 horas sin desconexiones es de {probabilidad}\")"
   ]
  },
  {
   "cell_type": "markdown",
   "metadata": {},
   "source": [
    " d) Encuentre la probabilidad de que el número de desconexiones en 3 perıodos consecutivos de 4 horas\n",
    " sea igual al número esperaod de desconexiones en 3 perıodos consecutivos de 4 horas."
   ]
  },
  {
   "cell_type": "code",
   "execution_count": 150,
   "metadata": {},
   "outputs": [
    {
     "name": "stdout",
     "output_type": "stream",
     "text": [
      "La probabilidad de que el número de desconexiones en 3 periodos consecutivos de 4 horas \n",
      "sea igual al número esperado de desconexiones en 3 periodos consecutivos de 4 horas es de 0.05026\n"
     ]
    }
   ],
   "source": [
    "n = 3\n",
    "#lambda_ = 1\n",
    "\n",
    "exitos = 0\n",
    "x = np.random.poisson(1, N)\n",
    "for i in x:\n",
    "    if i == 0:\n",
    "        exitos += 1\n",
    "prob = exitos/N\n",
    "\n",
    "\n",
    "uno = 0\n",
    "w = np.random.binomial(n, prob, N)\n",
    "for j in w:\n",
    "    if j == 3:\n",
    "        uno += 1\n",
    "probabilidad = uno/N\n",
    "\n",
    "print(f\"La probabilidad de que el número de desconexiones en 3 periodos consecutivos de 4 horas \\nsea igual al número esperado de desconexiones en 3 periodos consecutivos de 4 horas es de {probabilidad}\")"
   ]
  },
  {
   "cell_type": "markdown",
   "metadata": {},
   "source": [
    "EJERCICIO #3: Distribuciones de probabilidad continuas"
   ]
  },
  {
   "cell_type": "markdown",
   "metadata": {},
   "source": [
    "LITERAL 1"
   ]
  },
  {
   "cell_type": "markdown",
   "metadata": {},
   "source": [
    "Suponga que el error en la temperatura en un experimento controlado de laboratorio es una variable\n",
    "aleatoria continua X, que tiene la siguiente funci´on de densidad de probabilidad..."
   ]
  },
  {
   "cell_type": "markdown",
   "metadata": {},
   "source": [
    "a) P(0 < X ≤ 1)"
   ]
  },
  {
   "cell_type": "code",
   "execution_count": 151,
   "metadata": {},
   "outputs": [
    {
     "name": "stdout",
     "output_type": "stream",
     "text": [
      "la probabilidad de X evaluando la  función de densidad de probabilidad en el intervalo 0 a 1 es: 1/9\n"
     ]
    }
   ],
   "source": [
    "from sympy import symbols, integrate\n",
    "\n",
    "\n",
    "x = symbols('x')\n",
    "funcion = (x**2)/3 \n",
    "\n",
    "resultado = integrate(funcion, (x, 0, 1))\n",
    "\n",
    "\n",
    "print(\"la probabilidad de X evaluando la  función de densidad de probabilidad en el intervalo 0 a 1 es:\", resultado)\n"
   ]
  },
  {
   "cell_type": "markdown",
   "metadata": {},
   "source": [
    "b) P(1 < X ≤ 2)"
   ]
  },
  {
   "cell_type": "code",
   "execution_count": 152,
   "metadata": {},
   "outputs": [
    {
     "name": "stdout",
     "output_type": "stream",
     "text": [
      "la probabilidad de X evaluando la  función de densidad de probabilidad en el intervalo 1 a 2 es: 7/9\n"
     ]
    }
   ],
   "source": [
    "resultado = integrate(funcion, (x, 1, 2))\n",
    "\n",
    "\n",
    "print(\"la probabilidad de X evaluando la  función de densidad de probabilidad en el intervalo 1 a 2 es:\", resultado)"
   ]
  },
  {
   "cell_type": "markdown",
   "metadata": {},
   "source": [
    "LITERAL 2: Se supone que las calificaciones de un examen están normalmente distribuidas con media 78 y varianza de 36."
   ]
  },
  {
   "cell_type": "code",
   "execution_count": 153,
   "metadata": {},
   "outputs": [],
   "source": [
    "import numpy as np\n",
    "N=10**5\n",
    "media=78\n",
    "varianza=36\n",
    "desv_estándar=np.sqrt(varianza)"
   ]
  },
  {
   "cell_type": "markdown",
   "metadata": {},
   "source": [
    "a) ¿Cuál es la probabilidad de que una persona que haga el examen alcance calificaciones mayores de 72?"
   ]
  },
  {
   "cell_type": "code",
   "execution_count": 154,
   "metadata": {},
   "outputs": [
    {
     "name": "stdout",
     "output_type": "stream",
     "text": [
      "La probabilidad de que, con una media de 78 y una desviación estándar de 36, una persona se saque más de 72 es 0.842 o 84.2%\n"
     ]
    }
   ],
   "source": [
    "y=np.random.normal(media, desv_estándar, N)\n",
    "si_cumple=0\n",
    "for i in y:\n",
    "    if i>72:\n",
    "        si_cumple+=1\n",
    "        \n",
    "prob_72=si_cumple/N\n",
    "\n",
    "print(f\"La probabilidad de que, con una media de 78 y una desviación estándar de 36, una persona se saque más de 72 es {round(prob_72,4)} o {round(prob_72*100,2)}%\")"
   ]
  },
  {
   "cell_type": "markdown",
   "metadata": {},
   "source": [
    "b) Suponga que los estudiantes que alcancen el 10% más alto de esta distribución reciben una\n",
    " calificación de A. ¿Cuál es la calificación mínima que un estudiante debe recibir para ganar una\n",
    " calificación de A?"
   ]
  },
  {
   "cell_type": "code",
   "execution_count": 155,
   "metadata": {},
   "outputs": [
    {
     "name": "stdout",
     "output_type": "stream",
     "text": [
      "La calificación mínima que un estudiante debe recibir para ganar una calificación de A, sabiendo que \n",
      "solo los estudiantes que alcancen el 10% más alto de esta distribución reciben una calificación de A, es 85.71\n"
     ]
    }
   ],
   "source": [
    "y_ordenada = sorted(y, reverse=True)\n",
    "indice_10_porc = int(len(y_ordenada) * 0.1)\n",
    "\n",
    "percentil_90 = y_ordenada[:indice_10_porc]\n",
    "\n",
    "print(f\"La calificación mínima que un estudiante debe recibir para ganar una calificación de A, sabiendo que \\nsolo los estudiantes que alcancen el 10% más alto de esta distribución reciben una calificación de A, es {round(percentil_90[-1],2)}\")   "
   ]
  },
  {
   "cell_type": "markdown",
   "metadata": {},
   "source": [
    " c) ¿Cuál debe ser el punto límite para pasar el examen si el examinador desea pasar a sólo 28,1% más alto de todas las calificaciones?"
   ]
  },
  {
   "cell_type": "code",
   "execution_count": 156,
   "metadata": {},
   "outputs": [
    {
     "name": "stdout",
     "output_type": "stream",
     "text": [
      "El punto límite para pasar el examen si el examinador desea pasar a sólo el 28,1% más alto de todas las calificaciones es 81.53\n"
     ]
    }
   ],
   "source": [
    "y_ordenada = sorted(y, reverse=True)\n",
    "indice_28_porc = int(len(y_ordenada) * 0.281)\n",
    "\n",
    "percentil_72 = y_ordenada[:indice_28_porc]\n",
    "\n",
    "print(f\"El punto límite para pasar el examen si el examinador desea pasar a sólo el 28,1% más alto de todas las calificaciones es {round(percentil_72[-1],2)}\")"
   ]
  },
  {
   "cell_type": "markdown",
   "metadata": {},
   "source": [
    " d) Aproximadamente qué proporción de estudiantes tienen calificaciones de 5 o más puntos arriba de la calificación que corta al 25% más bajo?"
   ]
  },
  {
   "cell_type": "code",
   "execution_count": 157,
   "metadata": {},
   "outputs": [
    {
     "name": "stdout",
     "output_type": "stream",
     "text": [
      "73.99240274141242\n"
     ]
    }
   ],
   "source": [
    "y_ordenada = sorted(y)\n",
    "\n",
    "indice_25_por_ciento = int(len(y_ordenada) * 0.25)\n",
    "\n",
    "percentil_25 = y_ordenada[:indice_25_por_ciento]\n",
    "print(percentil_25[-1])"
   ]
  },
  {
   "cell_type": "code",
   "execution_count": 158,
   "metadata": {},
   "outputs": [
    {
     "name": "stdout",
     "output_type": "stream",
     "text": [
      "La proporción de estudiantes que tienen calificaciones de 5 o más puntos arriba de la calificación que corta el 25% más bajo es 0.4369 o 43.69%\n"
     ]
    }
   ],
   "source": [
    "count=0\n",
    "for i in y:\n",
    "    if i>=float(percentil_25[-1])+5:\n",
    "        count+=1\n",
    "\n",
    "prob_totald=(count/N)\n",
    "\n",
    "print(f\"La proporción de estudiantes que tienen calificaciones de 5 o más puntos arriba de la calificación que corta el 25% más bajo es {round(prob_totald,4)} o {round(prob_totald*100,2)}%\")"
   ]
  },
  {
   "cell_type": "markdown",
   "metadata": {},
   "source": [
    "e) Si se sabe que la calificación de un estudiante excede de 72, ¿cuál es la probabilidad de que su calificación exceda de 84?"
   ]
  },
  {
   "cell_type": "code",
   "execution_count": 159,
   "metadata": {},
   "outputs": [
    {
     "name": "stdout",
     "output_type": "stream",
     "text": [
      "Sabiendo que la calificación de un estudiante excede de 72, la probabilidad de que su calificación exceda de 84 es 0.1896 o 18.96%\n"
     ]
    }
   ],
   "source": [
    "new_72=[]\n",
    "for i in y:\n",
    "    if i>72:\n",
    "        new_72.append(i)\n",
    "        \n",
    "cumple2=0\n",
    "for j in y:\n",
    "    if j>84:\n",
    "        cumple2+=1\n",
    "\n",
    "prob_84=(cumple2/N)/(prob_72)\n",
    "print(f\"Sabiendo que la calificación de un estudiante excede de 72, la probabilidad de que su calificación exceda de 84 es {round(prob_84,4)} o {round(prob_84*100,2)}%\")"
   ]
  },
  {
   "cell_type": "markdown",
   "metadata": {},
   "source": [
    "EJERCICIO 4: Cadenas de Markov ocultas"
   ]
  },
  {
   "cell_type": "markdown",
   "metadata": {},
   "source": [
    "LITERAL 1"
   ]
  },
  {
   "cell_type": "code",
   "execution_count": 160,
   "metadata": {},
   "outputs": [],
   "source": [
    "import numpy as np"
   ]
  },
  {
   "cell_type": "code",
   "execution_count": 161,
   "metadata": {},
   "outputs": [],
   "source": [
    "matriz_trasicion=np.array([[0.4, 0.2, 0.2, 0.2],[0.25, 0.25, 0.25, 0.25],[0.3, 0.3, 0.1, 0.3],[0.1, 0.1, 0.1, 0.7]])\n",
    "matriz_trasicion=np.transpose(matriz_trasicion)"
   ]
  },
  {
   "cell_type": "code",
   "execution_count": 162,
   "metadata": {},
   "outputs": [],
   "source": [
    "probabilidad_priori_pi=np.array([0.25, 0.0, 0.5, 0.25])"
   ]
  },
  {
   "cell_type": "code",
   "execution_count": 163,
   "metadata": {},
   "outputs": [],
   "source": [
    "inicio_probabilidad_priori=probabilidad_priori_pi[3]"
   ]
  },
  {
   "cell_type": "markdown",
   "metadata": {},
   "source": [
    "si se quiere calcular la probabilidad de obtener el gen g = [T, G, C, T, C, A, A, A], entonces la probabilidad de la secuencia se calcula multiplicando las probabilidades de transición y las probabilidades a priori asociadas con cada transición. En este caso, la probabilidad a priori para el primer caso (Iniciar con T) es inicio_probabilidad_priori = 0.25"
   ]
  },
  {
   "cell_type": "code",
   "execution_count": 164,
   "metadata": {},
   "outputs": [
    {
     "name": "stdout",
     "output_type": "stream",
     "text": [
      "la probabilidad de obtener el gen g es 7.5e-06 o 0.00075%\n"
     ]
    }
   ],
   "source": [
    "Probabilidad_gen_g=inicio_probabilidad_priori*matriz_trasicion[2, 3]*matriz_trasicion[1, 2]*matriz_trasicion[3, 1]*matriz_trasicion[1, 3]*matriz_trasicion[0, 1]*matriz_trasicion[0, 0]*matriz_trasicion[0, 0]\n",
    "print(\"la probabilidad de obtener el gen g es \"+str(round(Probabilidad_gen_g, 10)) +\" o \"+str(round(Probabilidad_gen_g, 10)*100)+\"%\")"
   ]
  },
  {
   "cell_type": "markdown",
   "metadata": {},
   "source": [
    "LITERAL 2"
   ]
  },
  {
   "cell_type": "code",
   "execution_count": 165,
   "metadata": {},
   "outputs": [],
   "source": [
    "matriz_emision=np.array([[0.8, 0.0, 0.0, 0.2],[0.05, 0.9, 0.1, 0.1],[0.05, 0.1, 0.9, 0.0],[0.1, 0.0, 0.0, 0.7]])"
   ]
  },
  {
   "cell_type": "code",
   "execution_count": 166,
   "metadata": {},
   "outputs": [
    {
     "name": "stdout",
     "output_type": "stream",
     "text": [
      "la probabilidad de obtener el gen g es 1.3717e-06 o 0.00013717%\n"
     ]
    }
   ],
   "source": [
    "Probabilidad_gen_t=matriz_emision[3, 3]*matriz_emision[2, 2]*matriz_emision[1, 1]*matriz_emision[3, 3]*matriz_emision[1, 1]*matriz_emision[0, 0]*matriz_emision[0, 0]*matriz_emision[0, 0]\n",
    "\n",
    "probabilidad_gen_traducido=Probabilidad_gen_t*Probabilidad_gen_g\n",
    "print(\"la probabilidad de obtener el gen g es \" +str(round(probabilidad_gen_traducido, 10)) +\" o \"+str(round(probabilidad_gen_traducido, 10)*100)+\"%\")"
   ]
  },
  {
   "cell_type": "markdown",
   "metadata": {},
   "source": [
    "---------------------------------------------------"
   ]
  }
 ],
 "metadata": {
  "kernelspec": {
   "display_name": "Python 3",
   "language": "python",
   "name": "python3"
  },
  "language_info": {
   "codemirror_mode": {
    "name": "ipython",
    "version": 3
   },
   "file_extension": ".py",
   "mimetype": "text/x-python",
   "name": "python",
   "nbconvert_exporter": "python",
   "pygments_lexer": "ipython3",
   "version": "3.7.7"
  }
 },
 "nbformat": 4,
 "nbformat_minor": 2
}
