{
 "cells": [
  {
   "cell_type": "code",
   "execution_count": 2,
   "metadata": {},
   "outputs": [],
   "source": [
    "import numpy as np\n",
    "\n",
    "def posicion(A,k,m,t):\n",
    "    '''\n",
    "    Esta función retorna la posición, x, en un tiempo de de una masa m atada a un\n",
    "    resorte de constante de fuerza k que inicialmente es desplazada A unidades de\n",
    "    su posición de equilibrio. Esta función devuelve el resultado de \n",
    "\n",
    "    $A\\sin (\\omega t)$ donde $\\omega = \\sqrt{\\frac{k}{m}}$\n",
    "\n",
    "    Parámetros\n",
    "    ----------\n",
    "    A: float\n",
    "        La amplitud o desplazamiento inicial de la masa.\n",
    "    k: float\n",
    "        La constante de fuerza del resorte.\n",
    "    m: float\n",
    "        La masa del objeto.\n",
    "    t: float\n",
    "        El tiempo en el cual se quiere calcular la posición.\n",
    "    '''\n",
    "    omega = np.sqrt(k/m)\n",
    "    return A*np.sin(omega*t)\n",
    "\n",
    "c=posicion(2, 800, 2"
   ]
  }
 ],
 "metadata": {
  "kernelspec": {
   "display_name": "Python 3",
   "language": "python",
   "name": "python3"
  },
  "language_info": {
   "codemirror_mode": {
    "name": "ipython",
    "version": 3
   },
   "file_extension": ".py",
   "mimetype": "text/x-python",
   "name": "python",
   "nbconvert_exporter": "python",
   "pygments_lexer": "ipython3",
   "version": "3.11.4"
  },
  "orig_nbformat": 4
 },
 "nbformat": 4,
 "nbformat_minor": 2
}
