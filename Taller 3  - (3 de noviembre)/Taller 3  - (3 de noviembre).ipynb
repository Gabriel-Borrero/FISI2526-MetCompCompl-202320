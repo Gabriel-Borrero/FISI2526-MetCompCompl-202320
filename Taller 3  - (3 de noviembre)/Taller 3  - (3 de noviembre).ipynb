{
 "cells": [
  {
   "cell_type": "code",
   "execution_count": 19,
   "metadata": {},
   "outputs": [],
   "source": [
    "import numpy as np"
   ]
  },
  {
   "cell_type": "markdown",
   "metadata": {},
   "source": [
    "EJERCICIO #1: "
   ]
  },
  {
   "cell_type": "markdown",
   "metadata": {},
   "source": [
    "Construya el algoritmo de multiplicación de matrices y encuentre el resultado de las siguientes operaciones."
   ]
  },
  {
   "cell_type": "markdown",
   "metadata": {},
   "source": [
    "Algoritmo:"
   ]
  },
  {
   "cell_type": "code",
   "execution_count": 20,
   "metadata": {},
   "outputs": [],
   "source": [
    "def multiplicacion(A,B):\n",
    "      \n",
    "    M,N = A.shape\n",
    "    R,T = B.shape\n",
    "\n",
    "    if R==1:\n",
    "        B=B.reshape(T, R)\n",
    "        R,T = B.shape\n",
    "   \n",
    "\n",
    "    C = np.zeros(shape=(M, T))\n",
    "    \n",
    "    if N==R:\n",
    "\n",
    "        for i in range(M):\n",
    "            for j in range(T):\n",
    "                for k in range(0,N):\n",
    "                    \n",
    "                    C[i,j] += A[i,k]*(B[k,j])\n",
    "        \n",
    "        return C"
   ]
  },
  {
   "cell_type": "markdown",
   "metadata": {},
   "source": [
    "a."
   ]
  },
  {
   "cell_type": "code",
   "execution_count": 21,
   "metadata": {},
   "outputs": [
    {
     "name": "stdout",
     "output_type": "stream",
     "text": [
      "[[ 39.]\n",
      " [ 23.]\n",
      " [ 12.]\n",
      " [-42.]\n",
      " [ 32.]]\n"
     ]
    }
   ],
   "source": [
    "A=np.array([[5, -4, -2],[5, -5, 4],[2, 5, -4], [-5, 4, 3], [3, -4, -3]])\n",
    "B=np.array([[5, -2, -3 ]])\n",
    "\n",
    "print(multiplicacion(A, B))"
   ]
  },
  {
   "cell_type": "markdown",
   "metadata": {},
   "source": [
    "b."
   ]
  },
  {
   "cell_type": "code",
   "execution_count": 22,
   "metadata": {},
   "outputs": [
    {
     "name": "stdout",
     "output_type": "stream",
     "text": [
      "None\n"
     ]
    }
   ],
   "source": [
    "A=np.array([[0, -1, -1, 3],[5, -5, -2, 2],[1, 0, 4, 5]])\n",
    "B=np.array([[0, -3], [-2, -1], [3, -3]])\n",
    "print(multiplicacion(A, B))"
   ]
  },
  {
   "cell_type": "markdown",
   "metadata": {},
   "source": [
    "c."
   ]
  },
  {
   "cell_type": "code",
   "execution_count": 23,
   "metadata": {},
   "outputs": [
    {
     "name": "stdout",
     "output_type": "stream",
     "text": [
      "[[ 18.  27. -13.  25. -37.]\n",
      " [-34.  51. -39. -46. -23.]\n",
      " [  3.  -1. -19.  16. -20.]\n",
      " [-17.  25. -91.  -1. -56.]]\n"
     ]
    }
   ],
   "source": [
    "A=np.array([[2, -5, 5, 1],[5, 2, -7, -6],[-6, -1, 7, -4], [5, 4, 1, -5]])\n",
    "B=np.array([[0, 4, -7, 1, -6], [-1, -6, -5, 1, 1], [2, -1, -6, 5, -5], [3, -6, 6, 3, 5]])\n",
    "print(multiplicacion(A, B))"
   ]
  },
  {
   "cell_type": "markdown",
   "metadata": {},
   "source": [
    "Utilizando dos matrices cuadradas, demuestre que la multiplicación no es conmutativa."
   ]
  },
  {
   "cell_type": "code",
   "execution_count": 24,
   "metadata": {},
   "outputs": [
    {
     "name": "stdout",
     "output_type": "stream",
     "text": [
      "Al multiplicar la Matriz 1 por la Matriz 2 se obtiene: \n",
      "\n",
      "\n",
      "[[-10.  46. -41.  16.]\n",
      " [ 51. -89.   8.   7.]\n",
      " [ -1.  48. -32. -63.]\n",
      " [ 72. -55. -13.  24.]]\n",
      "\n",
      "\n",
      "Al multiplicar la Matriz 2 por la Matriz 1 se obtiene: \n",
      "\n",
      "\n",
      "[[ 42.   1.  47.  -3.]\n",
      " [-29. -31.  90.   9.]\n",
      " [ 58.   8. -52. -17.]\n",
      " [ 17.  50. -27. -66.]]\n",
      "\n",
      "\n",
      "El resultado de multiplicar la matriz 1 por la matriz 2 no es igual al resultado de multiplicar\n",
      "la matriz 2 por la 1, con lo cual la multiplicación de matrices NO es conmutativa\n"
     ]
    }
   ],
   "source": [
    "Matriz_1=np.array([[2, -5, 5, 1],[5, 2, -7, -6],[-6, -1, 7, -4], [5, 4, 1, -5]])\n",
    "Matriz_2=np.array([[5, -4, -2, 8],[5, -5, 4, 2],[2, 5, -4, 1], [-5, 4, 3, 5]])\n",
    "\n",
    "print(\"Al multiplicar la Matriz 1 por la Matriz 2 se obtiene: \")\n",
    "print(\"\\n\")\n",
    "print(multiplicacion(Matriz_1, Matriz_2))\n",
    "print(\"\\n\")\n",
    "print(\"Al multiplicar la Matriz 2 por la Matriz 1 se obtiene: \")\n",
    "print(\"\\n\")\n",
    "print(multiplicacion(Matriz_2, Matriz_1))\n",
    "print(\"\\n\")\n",
    "print(\"El resultado de multiplicar la matriz 1 por la matriz 2 no es igual al resultado de multiplicar\\nla matriz 2 por la 1, con lo cual la multiplicación de matrices NO es conmutativa\")\n"
   ]
  },
  {
   "cell_type": "markdown",
   "metadata": {},
   "source": [
    "EJERCICIO #2: (Reducción Gaussiana)"
   ]
  },
  {
   "cell_type": "markdown",
   "metadata": {},
   "source": [
    "a. Forces on a Beam"
   ]
  },
  {
   "cell_type": "code",
   "execution_count": 25,
   "metadata": {},
   "outputs": [],
   "source": [
    "def gaussian_elimination(A: np.array,b: np.array):\n",
    "    '''\n",
    "    Args:\n",
    "        A (np.array): Matriz de coeficientes cuadrada (n x n).\n",
    "        b (np.array): Vector de constantes de longitud n\n",
    "\n",
    "    Returns:\n",
    "        M (np.array): Matriz aumentada [A|b] reducida utilizando el algoritmo de eliminación Gaussiana\n",
    "    '''\n",
    "    n = np.shape(A)[0]\n",
    "    M = np.zeros(shape=(n,n+1))\n",
    "    M[:,0:n] = A\n",
    "    M[:,n] = b\n",
    "    for i in range (1,n):\n",
    "        for j in range(0,i):\n",
    "            C=(M[i,j]/M[j,j])\n",
    "            M[i,:]=M[i,:]-C*M[j,:]\n",
    "    \n",
    "\n",
    "    return M"
   ]
  },
  {
   "cell_type": "code",
   "execution_count": 26,
   "metadata": {},
   "outputs": [],
   "source": [
    "def back_substitution(A, b):\n",
    "    '''\n",
    "    Args:\n",
    "        A (np.array): Matriz de coeficientes triangular superior\n",
    "        b (np.arra): vector de constantes\n",
    "        \n",
    "    '''\n",
    "\n",
    "    n = np.shape(A)[0]\n",
    "\n",
    "    x = np.zeros(n)\n",
    "\n",
    "    for i in range(n-1,-1,-1):\n",
    "        sum = b[i]\n",
    "        for j in range(n-1,i,-1):\n",
    "            sum -= A[i,j]*x[j]\n",
    "        x[i] = sum/A[i,i]\n",
    "\n",
    "    return x"
   ]
  },
  {
   "cell_type": "code",
   "execution_count": 27,
   "metadata": {},
   "outputs": [],
   "source": [
    "A = np.array([[3,1,-1],\\\n",
    "              [1,-2,1],\n",
    "              [4,-1,1]])\n",
    "b = np.array([2,0,3])"
   ]
  },
  {
   "cell_type": "code",
   "execution_count": 28,
   "metadata": {},
   "outputs": [],
   "source": [
    "M = gaussian_elimination(A,b)\n",
    "Mnxn = M[:, :-1]\n",
    "Mlast = M[:, -1]\n",
    "F = back_substitution(Mnxn,Mlast)"
   ]
  },
  {
   "cell_type": "code",
   "execution_count": 29,
   "metadata": {},
   "outputs": [
    {
     "name": "stdout",
     "output_type": "stream",
     "text": [
      " Las fuerzas en orden F1, F2, F3 son [0.71428571 0.85714286 1.        ]\n"
     ]
    }
   ],
   "source": [
    "print(f\" Las fuerzas en orden F1, F2, F3 son {F}\")"
   ]
  },
  {
   "cell_type": "code",
   "execution_count": 30,
   "metadata": {},
   "outputs": [
    {
     "name": "stdout",
     "output_type": "stream",
     "text": [
      "comprobación:\n"
     ]
    },
    {
     "data": {
      "text/plain": [
       "array([0.71428571, 0.85714286, 1.        ])"
      ]
     },
     "execution_count": 30,
     "metadata": {},
     "output_type": "execute_result"
    }
   ],
   "source": [
    "coeficientes = np.array([[3,1,-1],\\\n",
    "              [1,-2,1],\n",
    "              [4,-1,1]])\n",
    "\n",
    "# Definir el vector de términos constantes\n",
    "constantes = np.array([2,0,3])\n",
    "\n",
    "# Resolver el sistema de ecuaciones\n",
    "solucion = np.linalg.solve(coeficientes, constantes)\n",
    "print(\"comprobación:\")\n",
    "solucion"
   ]
  },
  {
   "cell_type": "markdown",
   "metadata": {},
   "source": [
    "b. Current Flow"
   ]
  },
  {
   "cell_type": "code",
   "execution_count": 31,
   "metadata": {},
   "outputs": [],
   "source": [
    "A = np.array([[1,1,1],\\\n",
    "              [0,-8,10],\n",
    "              [4,-8,0]])\n",
    "b = np.array([0,0,6])"
   ]
  },
  {
   "cell_type": "code",
   "execution_count": 32,
   "metadata": {},
   "outputs": [],
   "source": [
    "M = gaussian_elimination(A,b)\n",
    "Mnxn = M[:, :-1]\n",
    "Mlast = M[:, -1]\n",
    "I = back_substitution(Mnxn,Mlast)"
   ]
  },
  {
   "cell_type": "code",
   "execution_count": 33,
   "metadata": {},
   "outputs": [
    {
     "name": "stdout",
     "output_type": "stream",
     "text": [
      " Las corrientes en cada uno de los caminos en el orden I1, I2, I3 son [ 0.71052632 -0.39473684 -0.31578947]\n"
     ]
    }
   ],
   "source": [
    "print(f\" Las corrientes en cada uno de los caminos en el orden I1, I2, I3 son {I}\")"
   ]
  },
  {
   "cell_type": "markdown",
   "metadata": {},
   "source": [
    "EJERCICIO #3"
   ]
  },
  {
   "cell_type": "code",
   "execution_count": 43,
   "metadata": {},
   "outputs": [
    {
     "name": "stdout",
     "output_type": "stream",
     "text": [
      "Se encontró un oscilación máxima (frecuencia máxima) del sistema de nan,\n",
      "la cual está asociada a las siguientes amplitudes [       nan 0.84089641        nan]\n"
     ]
    },
    {
     "name": "stderr",
     "output_type": "stream",
     "text": [
      "C:\\Users\\gaboe\\AppData\\Local\\Temp\\ipykernel_11216\\3928099806.py:16: RuntimeWarning: invalid value encountered in sqrt\n",
      "  w_sub_cero=np.sqrt(-w_sub_cero)\n"
     ]
    }
   ],
   "source": [
    "import numpy as np\n",
    "\n",
    "def valor_propio(k):\n",
    "    z_sub_cero = np.array([3, 2, 1]) \n",
    "    w_sub_cero = z_sub_cero / np.linalg.norm(z_sub_cero)\n",
    "    Matriz_A = np.array([[-2/3, 1/3, 0],[1/4, -2/4, 1/4],[0,1/5, -2/5]])\n",
    "\n",
    "    for i in range(k):\n",
    "        Z_k_1 = np.dot(Matriz_A, w_sub_cero)\n",
    "        w_k_1 = Z_k_1 / np.linalg.norm(Z_k_1)\n",
    "\n",
    "        w_sub_cero = w_k_1\n",
    "\n",
    "    w_k_1_transpuesto = np.transpose(w_k_1)\n",
    "    \n",
    "    frecuencia=(np.dot(np.dot(w_sub_cero, Matriz_A), w_k_1_transpuesto))\n",
    "    frecuencia=np.sqrt(-(np.dot(np.dot(w_sub_cero, Matriz_A), w_k_1_transpuesto)))\n",
    "\n",
    "    return frecuencia, w_sub_cero\n",
    "\n",
    "\n",
    "frecuencia, amplitud=valor_propio(20)\n",
    "print(\"Se encontró un oscilación máxima (frecuencia máxima) del sistema de \" +str(frecuencia)+ \",\\nla cual está asociada a las siguientes amplitudes \"+ str(amplitud))\n"
   ]
  },
  {
   "cell_type": "code",
   "execution_count": 35,
   "metadata": {},
   "outputs": [
    {
     "name": "stdout",
     "output_type": "stream",
     "text": [
      "Se encontró un oscilación mínima (frecuencia mínima) del sistema de -6.915475947401755,\n",
      "la cual está asociada a las siguientes amplitudes [0.44914023 0.7034391  0.55085977]\n"
     ]
    }
   ],
   "source": [
    "import numpy as np\n",
    "\n",
    "def valor_propio(k):\n",
    "    z_sub_cero = np.array([3, 2, 1])\n",
    "    w_sub_cero = z_sub_cero / np.linalg.norm(z_sub_cero)\n",
    "\n",
    "    Matriz_A = np.array([[-2/3, 1/3, 0],[1/4, -2/4, 1/4],[0,1/5, -2/5]]) #np.array([[-2, 1, 0],[1, -2, 1],[0,1 , -2]])\n",
    "    Matriz_A_inversa= np.linalg.inv(Matriz_A)\n",
    "    for i in range(k):\n",
    "        Z_k_1 = np.dot(Matriz_A_inversa, w_sub_cero)\n",
    "        w_k_1 = Z_k_1 / np.linalg.norm(Z_k_1)\n",
    "\n",
    "        w_sub_cero = w_k_1\n",
    "\n",
    "    w_k_1_transpuesto = np.transpose(w_k_1)\n",
    "    \n",
    "    \n",
    "\n",
    "    return 1.0/(np.dot(np.dot(w_sub_cero, Matriz_A), w_k_1_transpuesto)), w_sub_cero\n",
    "\n",
    "\n",
    "frecuencia, amplitud=valor_propio(20)\n",
    "print(\"Se encontró un oscilación mínima (frecuencia mínima) del sistema de \" +str(frecuencia)+ \",\\nla cual está asociada a las siguientes amplitudes \"+ str(amplitud))\n"
   ]
  },
  {
   "cell_type": "code",
   "execution_count": null,
   "metadata": {},
   "outputs": [],
   "source": []
  }
 ],
 "metadata": {
  "kernelspec": {
   "display_name": "Python 3",
   "language": "python",
   "name": "python3"
  },
  "language_info": {
   "codemirror_mode": {
    "name": "ipython",
    "version": 3
   },
   "file_extension": ".py",
   "mimetype": "text/x-python",
   "name": "python",
   "nbconvert_exporter": "python",
   "pygments_lexer": "ipython3",
   "version": "3.11.4"
  }
 },
 "nbformat": 4,
 "nbformat_minor": 2
}
